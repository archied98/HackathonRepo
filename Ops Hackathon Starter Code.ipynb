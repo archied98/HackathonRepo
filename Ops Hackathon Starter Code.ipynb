{
 "cells": [
  {
   "cell_type": "markdown",
   "metadata": {},
   "source": [
    "## Connect to ICW:"
   ]
  },
  {
   "cell_type": "code",
   "execution_count": null,
   "metadata": {},
   "outputs": [],
   "source": [
    "import cadspy"
   ]
  },
  {
   "cell_type": "code",
   "execution_count": null,
   "metadata": {},
   "outputs": [],
   "source": [
    "icw = cadspy.DatabaseConnection(system='ICW', user='u204570')"
   ]
  },
  {
   "cell_type": "markdown",
   "metadata": {},
   "source": [
    "Below are some packages to get you started. You don't have to use them but you may find them useful!"
   ]
  },
  {
   "cell_type": "code",
   "execution_count": null,
   "metadata": {},
   "outputs": [],
   "source": [
    "import numpy as np\n",
    "import pandas as pd\n",
    "import datetime as dt\n"
   ]
  },
  {
   "cell_type": "code",
   "execution_count": null,
   "metadata": {},
   "outputs": [],
   "source": [
    "# diplay all rows and cols when using 'dataframe'.head() or 'dataframe'.tail()\n",
    "pd.set_option('display.max_columns', None)\n",
    "pd.set_option('display.max_rows', None)"
   ]
  },
  {
   "cell_type": "markdown",
   "metadata": {},
   "source": [
    "<br>\n",
    "\n",
    "### Data\n",
    "\n",
    "#### S19 Lounge Eligibility data"
   ]
  },
  {
   "cell_type": "code",
   "execution_count": null,
   "metadata": {},
   "outputs": [],
   "source": [
    "query = \"\"\"\n",
    "\n",
    "sel * from LDB_SBOX_OR.HACKATHON_OPS_LOUNGE_ELIGIBILITY\n",
    "\n",
    "\"\"\"\n",
    "\n",
    "df_lounge_eligibility = icw.queryToDataframe(query)"
   ]
  },
  {
   "cell_type": "code",
   "execution_count": null,
   "metadata": {},
   "outputs": [],
   "source": [
    "df_lounge_eligibility.head(2)"
   ]
  },
  {
   "cell_type": "code",
   "execution_count": null,
   "metadata": {},
   "outputs": [],
   "source": [
    "df_lounge_eligibility.shape"
   ]
  },
  {
   "cell_type": "code",
   "execution_count": null,
   "metadata": {},
   "outputs": [],
   "source": [
    "# a look to a particular flight number and date\n",
    "\n",
    "mask = (df_lounge_eligibility['DISCHARGE_STN_CD'] == 'GCM   ') & (df_lounge_eligibility['GMT_UPLIFT_DT'] == dt.date(2019,9,12) )\n",
    "\n",
    "df_lounge_eligibility[mask]"
   ]
  },
  {
   "cell_type": "markdown",
   "metadata": {},
   "source": [
    "#### S19 Flight info"
   ]
  },
  {
   "cell_type": "code",
   "execution_count": null,
   "metadata": {},
   "outputs": [],
   "source": [
    "query = \"\"\"\n",
    "\n",
    "select * from LDB_SBOX_OR.HACKATHON_OPS_FLIGHT_INFO\n",
    "\n",
    "\"\"\"\n",
    "\n",
    "df_flight_info = icw.queryToDataframe(query)"
   ]
  },
  {
   "cell_type": "code",
   "execution_count": null,
   "metadata": {},
   "outputs": [],
   "source": [
    "df_flight_info.head(2)"
   ]
  },
  {
   "cell_type": "markdown",
   "metadata": {},
   "source": [
    "#### Station Code Decode"
   ]
  },
  {
   "cell_type": "code",
   "execution_count": null,
   "metadata": {},
   "outputs": [],
   "source": [
    "query = \"\"\"\n",
    "\n",
    "select * from LDB_SBOX_OR.HACKATHON_OPS_COUNTRY_DECODE\n",
    "\n",
    "\"\"\"\n",
    "\n",
    "df_country = icw.queryToDataframe(query)"
   ]
  },
  {
   "cell_type": "code",
   "execution_count": null,
   "metadata": {},
   "outputs": [],
   "source": [
    "df_country.head(2)"
   ]
  },
  {
   "cell_type": "markdown",
   "metadata": {},
   "source": [
    "#### Aircraft Type"
   ]
  },
  {
   "cell_type": "code",
   "execution_count": null,
   "metadata": {},
   "outputs": [],
   "source": [
    "query = \"\"\"\n",
    "\n",
    "select * from LDB_SBOX_OR.HACKATHON_OPS_AC_TYPE\n",
    "\n",
    "\"\"\"\n",
    "\n",
    "df_acft_typ = icw.queryToDataframe(query)"
   ]
  },
  {
   "cell_type": "code",
   "execution_count": null,
   "metadata": {},
   "outputs": [],
   "source": [
    "df_acft_typ.head(2)"
   ]
  },
  {
   "cell_type": "code",
   "execution_count": null,
   "metadata": {},
   "outputs": [],
   "source": [
    "df_acft_typ.shape"
   ]
  },
  {
   "cell_type": "markdown",
   "metadata": {},
   "source": [
    "<br>\n",
    "\n",
    "### Pre-processing"
   ]
  },
  {
   "cell_type": "markdown",
   "metadata": {},
   "source": [
    "*Hint:* It is always worth checking the format of each of the columns in your dataframes before trying to do any work with them. To do so, you can make use of the `headers_and_first_row` function below.\n"
   ]
  },
  {
   "cell_type": "code",
   "execution_count": null,
   "metadata": {},
   "outputs": [],
   "source": [
    "def headers_and_first_row(df):\n",
    "    '''\n",
    "    print headers and first row of a df to deal with data types\n",
    "    '''\n",
    "    \n",
    "    headers = df.columns\n",
    "    first_row = []\n",
    "\n",
    "    for col in headers:\n",
    "        first_row.append(df[col][0])\n",
    "    \n",
    "    dictionary = dict( zip( headers, first_row) )\n",
    "\n",
    "    return dictionary"
   ]
  },
  {
   "cell_type": "code",
   "execution_count": null,
   "metadata": {},
   "outputs": [],
   "source": [
    "# applying headers_and_first_row to df_lounge_eligibility\n",
    "format_df = headers_and_first_row(df_lounge_eligibility)"
   ]
  },
  {
   "cell_type": "code",
   "execution_count": null,
   "metadata": {},
   "outputs": [],
   "source": [
    "# Note that some columns have blank spaces!\n",
    "format_df"
   ]
  },
  {
   "cell_type": "markdown",
   "metadata": {},
   "source": [
    "<br>\n",
    "<div class=\"alert alert-\" style = \"border-radius:10px;border-width:3px;border-color:lightblue;font-family:Verdana,sans-serif;font-size:16px;\">\n",
    "\n",
    "<font size=\"3\">**Exercise 1:** Pre-process **all** the tables above (df_lounge_eligibility, df_flight_info, df_country, df_acft_typ).\n",
    "\n",
    "</font>\n",
    "\n",
    "</ol>\n",
    "</div>"
   ]
  },
  {
   "cell_type": "code",
   "execution_count": null,
   "metadata": {},
   "outputs": [],
   "source": [
    "# helper function\n",
    "\n",
    "def dataframe_str_formatter(df):\n",
    "    '''Strips all whitespace in string columns in DataFrame'''\n",
    "    for col in df.columns:\n",
    "        if isinstance(df[col][0],str):\n",
    "            df[col] = df[col].str.strip()\n",
    "        else:\n",
    "            continue\n",
    "    return df\n"
   ]
  },
  {
   "cell_type": "code",
   "execution_count": null,
   "metadata": {},
   "outputs": [],
   "source": [
    "# Example: strip method works well to remove blank spaces\n",
    "df_lounge_eligibility['OPERATING_AIRLINE_CD'] = df_lounge_eligibility['OPERATING_AIRLINE_CD'].str.strip()"
   ]
  },
  {
   "cell_type": "code",
   "execution_count": null,
   "metadata": {},
   "outputs": [],
   "source": [
    "# applying headers_and_first_row to df_lounge_eligibility\n",
    "format_df = headers_and_first_row(df_lounge_eligibility)\n",
    "\n",
    "# print the dictionary format_df. Note how the OPERATING_AIRLINE_CD column now appear without white spaces\n",
    "format_df"
   ]
  },
  {
   "cell_type": "code",
   "execution_count": null,
   "metadata": {},
   "outputs": [],
   "source": [
    "# pre-processing code\n",
    "\n",
    "df_lounge_eligibility = dataframe_str_formatter(df_lounge_eligibility)"
   ]
  },
  {
   "cell_type": "code",
   "execution_count": null,
   "metadata": {},
   "outputs": [],
   "source": [
    "# applying headers_and_first_row to df_lounge_eligibility\n",
    "format_df = headers_and_first_row(df_lounge_eligibility)\n",
    "\n",
    "# print the dictionary format_df. Note how the OPERATING_AIRLINE_CD column now appear without white spaces\n",
    "format_df"
   ]
  },
  {
   "cell_type": "code",
   "execution_count": null,
   "metadata": {},
   "outputs": [],
   "source": [
    "df_lounge_eligibility['GMT_UPLIFT_DT'] = pd.to_datetime(df_lounge_eligibility['GMT_UPLIFT_DT'])"
   ]
  },
  {
   "cell_type": "markdown",
   "metadata": {},
   "source": [
    "<br><br>"
   ]
  },
  {
   "cell_type": "markdown",
   "metadata": {},
   "source": [
    "### df_flight_info pre-processing"
   ]
  },
  {
   "cell_type": "code",
   "execution_count": null,
   "metadata": {},
   "outputs": [],
   "source": [
    "format_df = headers_and_first_row(df_flight_info)\n",
    "\n",
    "format_df"
   ]
  },
  {
   "cell_type": "code",
   "execution_count": null,
   "metadata": {},
   "outputs": [],
   "source": [
    "# pre-processing code\n",
    "\n",
    "df_flight_info = dataframe_str_formatter(df_flight_info)\n",
    "\n",
    "# Need to convert to same date type for merge\n",
    "df_flight_info['GMT_PLND_DEP_TS'] = pd.to_datetime(df_flight_info['GMT_PLND_DEP_TS'], format = '%Y-%m-%d')\n",
    "df_flight_info['GMT_PLND_DEP'] = pd.to_datetime(df_flight_info['GMT_PLND_DEP_TS'].dt.date)\n",
    "\n",
    "format_df = headers_and_first_row(df_flight_info)\n",
    "\n",
    "format_df"
   ]
  },
  {
   "cell_type": "markdown",
   "metadata": {},
   "source": [
    "### df_country pre-processing"
   ]
  },
  {
   "cell_type": "code",
   "execution_count": null,
   "metadata": {},
   "outputs": [],
   "source": [
    "# show current format\n",
    "\n",
    "format_df_country = headers_and_first_row(df_country)\n",
    "\n",
    "format_df_country"
   ]
  },
  {
   "cell_type": "code",
   "execution_count": null,
   "metadata": {},
   "outputs": [],
   "source": [
    "# pre-processing code\n",
    "\n",
    "df_country = dataframe_str_formatter(df_country)\n",
    "\n",
    "format_df_country = headers_and_first_row(df_country)\n",
    "\n",
    "format_df_country"
   ]
  },
  {
   "cell_type": "markdown",
   "metadata": {},
   "source": [
    "### df_acft_type pre-processing"
   ]
  },
  {
   "cell_type": "code",
   "execution_count": null,
   "metadata": {},
   "outputs": [],
   "source": [
    "# show current format\n",
    "\n",
    "format_df_aircraft = headers_and_first_row(df_acft_typ)\n",
    "\n",
    "format_df_aircraft"
   ]
  },
  {
   "cell_type": "code",
   "execution_count": null,
   "metadata": {},
   "outputs": [],
   "source": [
    "# pre-processing code\n",
    "\n",
    "df_acft_type = dataframe_str_formatter(df_acft_typ)\n",
    "\n",
    "format_df_aircraft = headers_and_first_row(df_acft_typ)\n",
    "\n",
    "format_df_aircraft"
   ]
  },
  {
   "cell_type": "markdown",
   "metadata": {},
   "source": [
    "<br>\n",
    "<div class=\"alert alert-\" style = \"border-radius:10px;border-width:3px;border-color:lightblue;font-family:Verdana,sans-serif;font-size:16px;\">\n",
    "\n",
    "<font size=\"3\">**Exercise 2:** Join the tables below\n",
    "   \n",
    "    - df_flight_info\n",
    "    - df_country\n",
    "    - df_acft_typ\n",
    "    \n",
    "to the table df_lounge_eligibility to generate a final dataset.\n",
    "\n",
    "</font>\n",
    "\n",
    "</ol>\n",
    "</div>"
   ]
  },
  {
   "cell_type": "code",
   "execution_count": null,
   "metadata": {},
   "outputs": [],
   "source": [
    "# Example\n",
    "\n",
    "# joining df_lounge_eligibility and df_flight_info\n",
    "\n",
    "df_lounge_elig_flight_info = pd.merge(df_lounge_eligibility,# left table\n",
    "                                     df_flight_info, # right table\n",
    "                                     left_on = ['GMT_UPLIFT_DT','OPERATING_FLT_NO','UPLIFT_STN_CD','DISCHARGE_STN_CD'], # left on? e.g. which columns from the left table are you joining on to?\n",
    "                                     right_on = ['GMT_PLND_DEP','OPG_FLT_NO','ACT_DEP_STN_CD','ACT_ARR_STN_CD'], # right on? # left on? e.g. which columns from the right table are you joining on to?\n",
    "                                     how = \"left\" # how? e.g. left, right, inner,etc\n",
    "                                     )"
   ]
  },
  {
   "cell_type": "code",
   "execution_count": null,
   "metadata": {},
   "outputs": [],
   "source": [
    "print('Old Shape: {}'.format(df_lounge_eligibility.shape))\n",
    "print('New Shape: {}'.format(df_lounge_elig_flight_info.shape))"
   ]
  },
  {
   "cell_type": "markdown",
   "metadata": {},
   "source": [
    "### Check Join has worked correctly by looking at some rows and countings null where join may not have worked"
   ]
  },
  {
   "cell_type": "code",
   "execution_count": null,
   "metadata": {},
   "outputs": [],
   "source": [
    "df_lounge_elig_flight_info.head()"
   ]
  },
  {
   "cell_type": "code",
   "execution_count": null,
   "metadata": {},
   "outputs": [],
   "source": [
    "# your code here!\n",
    "\n",
    "df_lounge_country_flight = pd.merge(df_lounge_elig_flight_info,\n",
    "                                   df_country,\n",
    "                                   on = 'ROUTE',\n",
    "                                   how = 'left'\n",
    "                                   )"
   ]
  },
  {
   "cell_type": "code",
   "execution_count": null,
   "metadata": {},
   "outputs": [],
   "source": [
    "print('Old Shape: {}'.format(df_lounge_elig_flight_info.shape))\n",
    "print('New Shape: {}'.format(df_lounge_country_flight.shape))"
   ]
  },
  {
   "cell_type": "code",
   "execution_count": null,
   "metadata": {},
   "outputs": [],
   "source": [
    "df_final = pd.merge(df_lounge_country_flight,\n",
    "                   df_acft_typ,\n",
    "                   on = ['IATA_AC_TYP_CD','ACT_AC_TYP_CD'],\n",
    "                   how = 'left'\n",
    "\n",
    "                   )"
   ]
  },
  {
   "cell_type": "code",
   "execution_count": null,
   "metadata": {},
   "outputs": [],
   "source": [
    "print('Old Shape: {}'.format(df_lounge_country_flight.shape))\n",
    "print('New Shape: {}'.format(df_final.shape))"
   ]
  },
  {
   "cell_type": "code",
   "execution_count": null,
   "metadata": {},
   "outputs": [],
   "source": [
    "df_final.head()"
   ]
  },
  {
   "cell_type": "markdown",
   "metadata": {},
   "source": [
    "<br><br>\n",
    "<div class=\"alert alert-\" style = \"border-radius:10px;border-width:3px;border-color:lightblue;font-family:Verdana,sans-serif;font-size:16px;\">\n",
    "\n",
    "<font size=\"3\">Exercise 3: Based on Summer 2019 data, provide a lookup table of Lounge eligibility assumptions that can be applied to a future schedule. To do so, answer each of the following questions in the Markdown cell provided below. \n",
    "\n",
    "- What level of granularity do you use?\n",
    "- What metric do you use to come up with Lounge eligibility profiles?\n",
    "\n",
    "    \n",
    "Note 1: **Provide evidence for your assumptions.** This can be in the form of tables, graphs, correlation matrix, etc.\n",
    "    \n",
    "Note 2: Make use of the examples below to give structure to your answer. Feel free to attend the Hackathon Clinics if you have any questions. \n",
    "</font>\n",
    "\n",
    "\n",
    "    \n",
    "</ol>\n",
    "</div>"
   ]
  },
  {
   "cell_type": "markdown",
   "metadata": {},
   "source": [
    "**Reasoning (Example 1)**:\n"
   ]
  },
  {
   "cell_type": "markdown",
   "metadata": {},
   "source": [
    "Assume:\n",
    "- Data has been preprocessed.\n",
    "- Data has been joined, and a final dataset has been created. This dataset is the result of joining the 4 tables.\n",
    "\n",
    "The final dataset has been called `df_lounge_elig_flight_info_country_acft_typ`."
   ]
  },
  {
   "cell_type": "markdown",
   "metadata": {},
   "source": [
    "<u>What level of granularity do you use?</u>\n",
    "- I have decided to split all flights in the network based on their aircraft type. I will therefore have a lookup table with two categories: Narrowbody and Widebody. \n",
    "\n",
    "<u>What metric do you use to come up with Lounge eligibility profiles?</u>\n",
    "- I have sumed up all the passengers by Aircraft Type, by Tier. Then I have divided them by the total number of passengers by Aircraft Type. For example:\n",
    "    - For NB aircrafts, and for Tier 1 passengers: In S19 we had 41,728 pax eligible for Tier 1 out of 7,222,830 pax flying on Narrowbody aircraft. This represents 0.6% of the costumers and I assume that this will be the number of costumers elegible for this specific Lounge in a future schedule.   "
   ]
  },
  {
   "cell_type": "code",
   "execution_count": null,
   "metadata": {},
   "outputs": [],
   "source": [
    "# your code here!"
   ]
  },
  {
   "cell_type": "code",
   "execution_count": null,
   "metadata": {},
   "outputs": [],
   "source": [
    "# columns that you want to group by\n",
    "list_groupby = ['WB_NB_CAT','Lounge_eligibility_tier']\n",
    "\n",
    "# grouping by WB_NB_CAT and Lounge_eligibility_tier\n",
    "df_groupby_wb_nb = df_lounge_elig_flight_info_country_acft_typ.groupby(list_groupby).agg(\n",
    "                pax_count = ('pax','sum')\n",
    ").reset_index()"
   ]
  },
  {
   "cell_type": "code",
   "execution_count": null,
   "metadata": {},
   "outputs": [],
   "source": [
    "# a look at the data\n",
    "df_groupby_wb_nb"
   ]
  },
  {
   "cell_type": "code",
   "execution_count": null,
   "metadata": {},
   "outputs": [],
   "source": [
    "# getting the number of pax by aircraft type\n",
    "\n",
    "# columns that you want to group by\n",
    "list_groupby = ['WB_NB_CAT']\n",
    "\n",
    "# grouping by WB_NB_CAT\n",
    "df_groupby_wb_nb_ttl = df_lounge_elig_flight_info_country_acft_typ.groupby(list_groupby).agg(\n",
    "                pax_count_ttl = ('pax','sum')\n",
    ").reset_index()"
   ]
  },
  {
   "cell_type": "code",
   "execution_count": null,
   "metadata": {},
   "outputs": [],
   "source": [
    "# a look at the data\n",
    "df_groupby_wb_nb_ttl"
   ]
  },
  {
   "cell_type": "code",
   "execution_count": null,
   "metadata": {},
   "outputs": [],
   "source": [
    "# now, let's left join df_groupby_wb_nb_ttl onto df_groupby_wb_nb\n",
    "# this adds a new column to the df_groupby_wb_nb table (pax_count_ttl) that will be used to get the percentage of passenger eligible by Tier\n",
    "\n",
    "df_groupby_wb_nb = pd.merge(df_groupby_wb_nb,\n",
    "                            df_groupby_wb_nb_ttl,\n",
    "                            on = ['WB_NB_CAT'],\n",
    "                            how = 'left'\n",
    "                           )"
   ]
  },
  {
   "cell_type": "code",
   "execution_count": null,
   "metadata": {},
   "outputs": [],
   "source": [
    "# a look at the data\n",
    "df_groupby_wb_nb"
   ]
  },
  {
   "cell_type": "code",
   "execution_count": null,
   "metadata": {},
   "outputs": [],
   "source": [
    "# getting the percentage of pax elegible for each of the Tiers\n",
    "\n",
    "df_groupby_wb_nb['pax_eligible%'] = (df_groupby_wb_nb['pax_count'] / df_groupby_wb_nb['pax_count_ttl'] )*100 \n",
    "\n",
    "# getting the pax_elegible% column in the right format\n",
    "df_groupby_wb_nb['pax_eligible%'] = df_groupby_wb_nb['pax_eligible%'].map('{:,.1f}%'.format)"
   ]
  },
  {
   "cell_type": "code",
   "execution_count": null,
   "metadata": {},
   "outputs": [],
   "source": [
    "# dropping pax_count, pax_count_ttl columns - not needed anymore\n",
    "df_groupby_wb_nb.drop(columns=['pax_count','pax_count_ttl'],inplace = True)"
   ]
  },
  {
   "cell_type": "code",
   "execution_count": null,
   "metadata": {},
   "outputs": [],
   "source": [
    "# a look at the data\n",
    "df_groupby_wb_nb"
   ]
  },
  {
   "cell_type": "code",
   "execution_count": null,
   "metadata": {},
   "outputs": [],
   "source": [
    "# dropping 'not eligible' rows - not needed anymore\n",
    "mask = df_groupby_wb_nb['Lounge_eligibility_tier'] == 'Not eligible'\n",
    "\n",
    "df_groupby_wb_nb = df_groupby_wb_nb[~mask].copy()"
   ]
  },
  {
   "cell_type": "markdown",
   "metadata": {},
   "source": [
    "<br>\n",
    "\n",
    "Please save your final lookup table below in the form of a pandas dataframe. It must contain the categories you have come up with as rows, and the Tier 1, Tier 2, and Tier 3 percentage of costumers as columns."
   ]
  },
  {
   "cell_type": "code",
   "execution_count": null,
   "metadata": {},
   "outputs": [],
   "source": [
    "# using set_index to come up with the final lookup table\n",
    "df_groupby_wb_nb = df_groupby_wb_nb.set_index(['WB_NB_CAT','Lounge_eligibility_tier'],drop = True).unstack('Lounge_eligibility_tier')"
   ]
  },
  {
   "cell_type": "code",
   "execution_count": null,
   "metadata": {},
   "outputs": [],
   "source": [
    "# final table\n",
    "df_groupby_wb_nb"
   ]
  },
  {
   "cell_type": "markdown",
   "metadata": {},
   "source": [
    "<br>\n",
    "\n",
    "**Feedback:** This analysis provides a lookup table in the format needed to be input into a future schedule. Nevertheless, this analysis is too high level and you haven't provided any evidence for your assumptions. To further enhance your answer use insights from the data and provide evidence for your assumptions. Please find some ideas below: \n",
    "\n",
    "- Using the same categories (WB,NB), plot data overtime to better understand the peaks for the different lounges. \n",
    "- Is there a way to split Widebody into more categories? Do the Haul, Region, Time of Day, or Country play a role in the number of passengers that are eligible in Tier 1, Tier 2 and Tier 3? Etc..."
   ]
  },
  {
   "cell_type": "markdown",
   "metadata": {},
   "source": [
    "<br><br>\n",
    "\n",
    "**Reasoning (Example 2)**:\n",
    "\n"
   ]
  },
  {
   "cell_type": "markdown",
   "metadata": {},
   "source": [
    "<u>What level of granularity do you use?</u>\n",
    "- I have decided to split all flights in the network based on their flight number. I will therefore have a lookup table with a lot of categories as each flight number is a category. \n",
    "\n",
    "<u>What metric do you use to come up with Lounge eligibility profiles?</u>\n",
    "- I have sumed up all the passengers by flight number, by Tier. Then I have divided them by the total number of passengers flight number.  "
   ]
  },
  {
   "cell_type": "code",
   "execution_count": null,
   "metadata": {},
   "outputs": [],
   "source": [
    "# your code here!"
   ]
  },
  {
   "cell_type": "code",
   "execution_count": null,
   "metadata": {},
   "outputs": [],
   "source": [
    "# columns that you want to group by\n",
    "list_groupby = ['OPERATING_FLT_NO','DISCHARGE_STN_CD','Lounge_eligibility_tier']\n",
    "\n",
    "# grouping by OPERATING_FLT_NO, DISCHARGE_STN_CD and Lounge_eligibility_tier\n",
    "df_groupby_flt_no = df_lounge_elig_flight_info_country_acft_typ.groupby(list_groupby).agg(\n",
    "                pax_count = ('pax','sum')\n",
    ").reset_index()\n",
    "\n",
    "# a look at the data\n",
    "df_groupby_flt_no.head(4)"
   ]
  },
  {
   "cell_type": "code",
   "execution_count": null,
   "metadata": {},
   "outputs": [],
   "source": []
  },
  {
   "cell_type": "code",
   "execution_count": null,
   "metadata": {},
   "outputs": [],
   "source": [
    "# getting the number of pax by OPERATING_FLT_NO and DISCHARGE_STN_CD\n",
    "\n",
    "# columns that you want to group by\n",
    "list_groupby = ['OPERATING_FLT_NO','DISCHARGE_STN_CD']\n",
    "\n",
    "# grouping by WB_NB_CAT\n",
    "df_groupby_flt_no_ttl = df_lounge_elig_flight_info_country_acft_typ.groupby(list_groupby).agg(\n",
    "                pax_count_ttl = ('pax','sum')\n",
    ").reset_index()"
   ]
  },
  {
   "cell_type": "code",
   "execution_count": null,
   "metadata": {},
   "outputs": [],
   "source": [
    "# a look at the data\n",
    "df_groupby_flt_no_ttl.head(2)"
   ]
  },
  {
   "cell_type": "code",
   "execution_count": null,
   "metadata": {},
   "outputs": [],
   "source": [
    "# now, let's left join df_groupby_flt_no_ttl onto df_groupby_flt_no\n",
    "# this adds a new column to the df_groupby_flt_no table (pax_count_ttl) that will be used to get the percentage of passenger eligible by Tier\n",
    "\n",
    "df_groupby_flt_no = pd.merge(df_groupby_flt_no,\n",
    "                            df_groupby_flt_no_ttl,\n",
    "                            on = ['OPERATING_FLT_NO','DISCHARGE_STN_CD'],\n",
    "                            how = 'left'\n",
    "                           )"
   ]
  },
  {
   "cell_type": "code",
   "execution_count": null,
   "metadata": {},
   "outputs": [],
   "source": [
    "# a look at the data\n",
    "df_groupby_flt_no.head(4)"
   ]
  },
  {
   "cell_type": "code",
   "execution_count": null,
   "metadata": {},
   "outputs": [],
   "source": [
    "# getting the percentage of pax elegible for each of the Tiers\n",
    "\n",
    "df_groupby_flt_no['pax_eligible%'] = (df_groupby_flt_no['pax_count'] / df_groupby_flt_no['pax_count_ttl'] )*100 \n",
    "\n",
    "# getting the pax_elegible% column in the right format\n",
    "df_groupby_flt_no['pax_eligible%'] = df_groupby_flt_no['pax_eligible%'].map('{:,.1f}%'.format)\n",
    "\n",
    "# dropping pax_count, pax_count_ttl columns - not needed anymore\n",
    "df_groupby_flt_no.drop(columns=['pax_count','pax_count_ttl'],inplace = True)"
   ]
  },
  {
   "cell_type": "code",
   "execution_count": null,
   "metadata": {},
   "outputs": [],
   "source": [
    "# a look at the data\n",
    "df_groupby_flt_no.head(4)"
   ]
  },
  {
   "cell_type": "code",
   "execution_count": null,
   "metadata": {},
   "outputs": [],
   "source": [
    "# dropping 'not eligible' rows - not needed anymore\n",
    "mask = df_groupby_flt_no['Lounge_eligibility_tier'] == 'Not eligible'\n",
    "\n",
    "df_groupby_flt_no = df_groupby_flt_no[~mask].copy()"
   ]
  },
  {
   "cell_type": "markdown",
   "metadata": {},
   "source": [
    "<br>\n",
    "\n",
    "Please save your final lookup table below in the form of a pandas dataframe. It must contain the categories you have come up with as rows, and the Tier 1, Tier 2, and Tier 3 percentage of costumers as columns."
   ]
  },
  {
   "cell_type": "code",
   "execution_count": null,
   "metadata": {},
   "outputs": [],
   "source": [
    "# using set_index to come up with the final lookup table\n",
    "df_groupby_flt_no = df_groupby_flt_no.set_index(['OPERATING_FLT_NO','DISCHARGE_STN_CD','Lounge_eligibility_tier'],drop = True).unstack('Lounge_eligibility_tier')"
   ]
  },
  {
   "cell_type": "code",
   "execution_count": null,
   "metadata": {},
   "outputs": [],
   "source": [
    "# final table\n",
    "df_groupby_flt_no.head(4)"
   ]
  },
  {
   "cell_type": "markdown",
   "metadata": {},
   "source": [
    "<br>\n",
    "\n",
    "**Feedback:** This analysis goes at a very granular level, we might come up with missing values if we apply this lounge eligibility profiles to a future schedule. Here are some ideas to further enhance your answer: \n",
    "\n",
    "- What would happen if we fly to a new destination in the future? How do we ensure we have a lounge eligibility profile for this new route?\n",
    "- As you can see in the example above: Pax eligible for Tier 1 for the BKK flight is significantly different from the rest. What's the most used aircraft type for this route? And why it differs that much from the rest? Is it because of the route characteristics instead?\n",
    "- For SH routes, we might change the time of departure for a specific flight number from one year to the next. Explore the possibility of using a clasification that takes that into account, like using Time of Day instead of flight number. "
   ]
  },
  {
   "cell_type": "markdown",
   "metadata": {},
   "source": [
    "<br><br><br>"
   ]
  },
  {
   "cell_type": "code",
   "execution_count": null,
   "metadata": {},
   "outputs": [],
   "source": [
    "#--------------------------------\n",
    "#\n",
    "# Your turn!!!\n",
    "#\n",
    "#--------------------------------"
   ]
  },
  {
   "cell_type": "markdown",
   "metadata": {},
   "source": [
    "<u>What level of granularity do you use?</u>\n",
    "\n",
    "This project wants to understand what characteristics of a flight help us get a better picture of the lounge eligibility profiles.\n",
    "Things I want to consider:\n",
    "- Time of flight (Morning, Afternoon, Evening) or maybe even by hour\n",
    "- Destination as this determines the passenger profile, different countries/regions have more premium passengers potentially\n",
    "- Short Haul/Medium Haul/Long Haul \n",
    "\n",
    "\n",
    "<u>General Thoughts:</u>\n",
    "\n",
    "Destination:\n",
    "- Routes are too granular as if we have new routes in the future we wouldn't be able to estimate\n",
    "- Countries could also be granular if we develop new routes to countries\n",
    "- Region may be suited as we currently fly to all regions\n",
    "- We need to think how to consider how certain countries within a region may have higher premium loads vs others\n",
    "\n",
    "<u>What metric do you use to come up with Lounge eligibility profiles?</u>\n",
    "- ... (your answer here)"
   ]
  },
  {
   "cell_type": "markdown",
   "metadata": {},
   "source": [
    "## Data Exploration"
   ]
  },
  {
   "cell_type": "code",
   "execution_count": null,
   "metadata": {},
   "outputs": [],
   "source": [
    "\n"
   ]
  },
  {
   "cell_type": "code",
   "execution_count": null,
   "metadata": {},
   "outputs": [],
   "source": []
  },
  {
   "cell_type": "markdown",
   "metadata": {},
   "source": [
    "<br>\n",
    "\n",
    "Please save your final lookup table below in the form of a pandas dataframe. It must contain the categories you have come up with as rows, and the Tier 1, Tier 2, and Tier 3 percentage of costumers as columns."
   ]
  },
  {
   "cell_type": "code",
   "execution_count": null,
   "metadata": {},
   "outputs": [],
   "source": []
  }
 ],
 "metadata": {
  "instance_type": "ml.t3.medium",
  "kernelspec": {
   "display_name": "Python 3 (Data Science)",
   "language": "python",
   "name": "python3__SAGEMAKER_INTERNAL__arn:aws:sagemaker:eu-west-1:470317259841:image/datascience-1.0"
  },
  "language_info": {
   "codemirror_mode": {
    "name": "ipython",
    "version": 3
   },
   "file_extension": ".py",
   "mimetype": "text/x-python",
   "name": "python",
   "nbconvert_exporter": "python",
   "pygments_lexer": "ipython3",
   "version": "3.7.10"
  },
  "lcc_arn": "arn:aws:sagemaker:eu-west-1:954353547965:studio-lifecycle-config/install-cadspy-v1-8-1r2"
 },
 "nbformat": 4,
 "nbformat_minor": 4
}
