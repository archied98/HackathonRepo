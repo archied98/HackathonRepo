{
 "cells": [
  {
   "cell_type": "markdown",
   "metadata": {},
   "source": [
    "## Connect to ICW:"
   ]
  },
  {
   "cell_type": "code",
   "execution_count": 2,
   "metadata": {},
   "outputs": [],
   "source": [
    "import cadspy\n",
    "import numpy as np\n",
    "import pandas as pd\n",
    "from datetime import datetime as dt\n",
    "from itertools import combinations\n",
    "\n",
    "# diplay all rows and cols when using 'dataframe'.head() or 'dataframe'.tail()\n",
    "pd.set_option('display.max_columns', None)\n",
    "pd.set_option('display.max_rows', None)\n",
    "\n"
   ]
  },
  {
   "cell_type": "code",
   "execution_count": 3,
   "metadata": {},
   "outputs": [
    {
     "name": "stdin",
     "output_type": "stream",
     "text": [
      "Enter Password:  ·········\n"
     ]
    }
   ],
   "source": [
    "icw = cadspy.DatabaseConnection(system='ICW', user='u204570')"
   ]
  },
  {
   "cell_type": "markdown",
   "metadata": {},
   "source": [
    "<br>\n",
    "\n",
    "### Data\n",
    "\n",
    "#### S19 Lounge Eligibility data"
   ]
  },
  {
   "cell_type": "code",
   "execution_count": 4,
   "metadata": {},
   "outputs": [],
   "source": [
    "# lounge eligibility data\n",
    "query = \"\"\"\n",
    "\n",
    "sel * from LDB_SBOX_OR.HACKATHON_OPS_LOUNGE_ELIGIBILITY\n",
    "\n",
    "\"\"\"\n",
    "\n",
    "df_lounge_eligibility = icw.queryToDataframe(query)\n",
    "\n",
    "# flight info data\n",
    "query = \"\"\"\n",
    "\n",
    "select * from LDB_SBOX_OR.HACKATHON_OPS_FLIGHT_INFO\n",
    "\n",
    "\"\"\"\n",
    "\n",
    "df_flight_info = icw.queryToDataframe(query)\n",
    "\n",
    "# country decode data\n",
    "query = \"\"\"\n",
    "\n",
    "select * from LDB_SBOX_OR.HACKATHON_OPS_COUNTRY_DECODE\n",
    "\n",
    "\"\"\"\n",
    "\n",
    "df_country = icw.queryToDataframe(query)\n",
    "\n",
    "# AC_type\n",
    "query = \"\"\"\n",
    "\n",
    "select * from LDB_SBOX_OR.HACKATHON_OPS_AC_TYPE\n",
    "\n",
    "\"\"\"\n",
    "\n",
    "df_acft_typ = icw.queryToDataframe(query)"
   ]
  },
  {
   "cell_type": "markdown",
   "metadata": {},
   "source": [
    "<br>\n",
    "\n",
    "### Pre-processing"
   ]
  },
  {
   "cell_type": "markdown",
   "metadata": {},
   "source": [
    "*Hint:* It is always worth checking the format of each of the columns in your dataframes before trying to do any work with them. To do so, you can make use of the `headers_and_first_row` function below.\n"
   ]
  },
  {
   "cell_type": "code",
   "execution_count": 5,
   "metadata": {},
   "outputs": [],
   "source": [
    "def headers_and_first_row(df):\n",
    "    '''\n",
    "    print headers and first row of a df to deal with data types\n",
    "    '''\n",
    "    \n",
    "    headers = df.columns\n",
    "    first_row = []\n",
    "\n",
    "    for col in headers:\n",
    "        first_row.append(df[col][0])\n",
    "    \n",
    "    dictionary = dict( zip( headers, first_row) )\n",
    "\n",
    "    return dictionary\n",
    "\n",
    "# helper function\n",
    "\n",
    "def dataframe_str_formatter(df):\n",
    "    '''Strips all whitespace in string columns in DataFrame'''\n",
    "    for col in df.columns:\n",
    "        if isinstance(df[col][0],str):\n",
    "            df[col] = df[col].str.strip()\n",
    "        else:\n",
    "            continue\n",
    "    return df\n"
   ]
  },
  {
   "cell_type": "code",
   "execution_count": 6,
   "metadata": {},
   "outputs": [
    {
     "data": {
      "text/plain": [
       "{'OPERATING_AIRLINE_CD': 'BA    ',\n",
       " 'OPERATING_FLT_NO': 57,\n",
       " 'GMT_UPLIFT_DT': datetime.date(2019, 6, 18),\n",
       " 'UPLIFT_STN_CD': 'LHR   ',\n",
       " 'DISCHARGE_STN_CD': 'JNB   ',\n",
       " 'BOOKED_CABIN_CD': 'J ',\n",
       " 'TRAVEL_CABIN_CD': 'J ',\n",
       " 'BA_PAX_TIER': '',\n",
       " 'ONEWORLD_TIER': 'EMER',\n",
       " 'Lounge_eligibility_tier': 'Tier 2',\n",
       " 'pax': 1}"
      ]
     },
     "execution_count": 6,
     "metadata": {},
     "output_type": "execute_result"
    }
   ],
   "source": [
    "# applying headers_and_first_row to df_lounge_eligibility\n",
    "format_df = headers_and_first_row(df_lounge_eligibility)\n",
    "\n",
    "# Note that some columns have blank spaces!\n",
    "format_df"
   ]
  },
  {
   "cell_type": "code",
   "execution_count": 7,
   "metadata": {},
   "outputs": [],
   "source": [
    "# pre-processing code\n",
    "\n",
    "df_lounge_eligibility = dataframe_str_formatter(df_lounge_eligibility)"
   ]
  },
  {
   "cell_type": "code",
   "execution_count": 8,
   "metadata": {},
   "outputs": [],
   "source": [
    "# pre-processing code\n",
    "\n",
    "df_lounge_eligibility = dataframe_str_formatter(df_lounge_eligibility)\n",
    "df_lounge_eligibility['GMT_UPLIFT_DT'] = pd.to_datetime(df_lounge_eligibility['GMT_UPLIFT_DT'])\n"
   ]
  },
  {
   "cell_type": "markdown",
   "metadata": {},
   "source": [
    "<br><br>"
   ]
  },
  {
   "cell_type": "markdown",
   "metadata": {},
   "source": [
    "### df_flight_info pre-processing"
   ]
  },
  {
   "cell_type": "code",
   "execution_count": 9,
   "metadata": {},
   "outputs": [
    {
     "data": {
      "text/plain": [
       "{'OPG_ALN_CD': 'BA    ',\n",
       " 'OPG_FLT_NO': 548,\n",
       " 'GMT_PLND_DEP_TS': Timestamp('2019-06-03 07:30:00'),\n",
       " 'GMT_ACT_DEP_TS': Timestamp('2019-06-03 07:27:00'),\n",
       " 'ACT_DEP_STN_CD': 'LHR   ',\n",
       " 'ACT_DEP_TML_CD': '5 ',\n",
       " 'PLND_ARR_STN_CD': 'FCO   ',\n",
       " 'ACT_ARR_STN_CD': 'FCO   ',\n",
       " 'IATA_AC_TYP_CD': '321   ',\n",
       " 'ACT_AC_TYP_CD': 'V6  ',\n",
       " 'ROUTE': 'LHRFCO      ',\n",
       " 'COUNTRY_CD': 'IT    ',\n",
       " 'COUNTRY_NM': 'Italy',\n",
       " 'CORP_GEOG_CTRY_GRP_NM': 'MEDITERRANEAN',\n",
       " 'CORP_GEOG_CONTINENT_NM': 'EUROPE EXC UK'}"
      ]
     },
     "execution_count": 9,
     "metadata": {},
     "output_type": "execute_result"
    }
   ],
   "source": [
    "format_df = headers_and_first_row(df_flight_info)\n",
    "\n",
    "format_df"
   ]
  },
  {
   "cell_type": "code",
   "execution_count": 10,
   "metadata": {},
   "outputs": [
    {
     "data": {
      "text/plain": [
       "{'OPG_ALN_CD': 'BA',\n",
       " 'OPG_FLT_NO': 548,\n",
       " 'GMT_PLND_DEP_TS': Timestamp('2019-06-03 07:30:00'),\n",
       " 'GMT_ACT_DEP_TS': Timestamp('2019-06-03 07:27:00'),\n",
       " 'ACT_DEP_STN_CD': 'LHR',\n",
       " 'ACT_DEP_TML_CD': '5',\n",
       " 'PLND_ARR_STN_CD': 'FCO',\n",
       " 'ACT_ARR_STN_CD': 'FCO',\n",
       " 'IATA_AC_TYP_CD': '321',\n",
       " 'ACT_AC_TYP_CD': 'V6',\n",
       " 'ROUTE': 'LHRFCO',\n",
       " 'COUNTRY_CD': 'IT',\n",
       " 'COUNTRY_NM': 'Italy',\n",
       " 'CORP_GEOG_CTRY_GRP_NM': 'MEDITERRANEAN',\n",
       " 'CORP_GEOG_CONTINENT_NM': 'EUROPE EXC UK',\n",
       " 'GMT_PLND_DEP': Timestamp('2019-06-03 00:00:00')}"
      ]
     },
     "execution_count": 10,
     "metadata": {},
     "output_type": "execute_result"
    }
   ],
   "source": [
    "# pre-processing code\n",
    "\n",
    "df_flight_info = dataframe_str_formatter(df_flight_info)\n",
    "\n",
    "# Need to convert to same date type for merge\n",
    "df_flight_info['GMT_PLND_DEP_TS'] = pd.to_datetime(df_flight_info['GMT_PLND_DEP_TS'], format = '%Y-%m-%d')\n",
    "df_flight_info['GMT_PLND_DEP'] = pd.to_datetime(df_flight_info['GMT_PLND_DEP_TS'].dt.date)\n",
    "\n",
    "format_df = headers_and_first_row(df_flight_info)\n",
    "\n",
    "format_df"
   ]
  },
  {
   "cell_type": "markdown",
   "metadata": {},
   "source": [
    "### df_country pre-processing"
   ]
  },
  {
   "cell_type": "code",
   "execution_count": 11,
   "metadata": {},
   "outputs": [
    {
     "data": {
      "text/plain": [
       "{'ROUTE': 'LHRINV',\n",
       " 'COUNTRY_CD': 'GB',\n",
       " 'COUNTRY_NM': 'United Kingdom and Northern Ireland',\n",
       " 'CORP_GEOG_CTRY_GRP_NM': 'UK',\n",
       " 'CORP_GEOG_CONTINENT_NM': 'UK'}"
      ]
     },
     "execution_count": 11,
     "metadata": {},
     "output_type": "execute_result"
    }
   ],
   "source": [
    "# show current format\n",
    "\n",
    "format_df_country = headers_and_first_row(df_country)\n",
    "\n",
    "format_df_country\n",
    "\n",
    "# pre-processing code\n",
    "\n",
    "df_country = dataframe_str_formatter(df_country)\n",
    "\n",
    "format_df_country = headers_and_first_row(df_country)\n",
    "\n",
    "format_df_country"
   ]
  },
  {
   "cell_type": "markdown",
   "metadata": {},
   "source": [
    "### df_acft_type pre-processing"
   ]
  },
  {
   "cell_type": "code",
   "execution_count": 12,
   "metadata": {},
   "outputs": [
    {
     "data": {
      "text/plain": [
       "{'IATA_AC_TYP_CD': '320',\n",
       " 'ACT_AC_TYP_CD': 'A3',\n",
       " 'WB_NB_CAT': 'NB',\n",
       " 'FIRST_SEATS_QTY': 0,\n",
       " 'CLUB_SEATS_QTY': 24,\n",
       " 'PREM_ECONOMY_SEATS_QTY': 0,\n",
       " 'ECONOMY_SEATS_QTY': 132}"
      ]
     },
     "execution_count": 12,
     "metadata": {},
     "output_type": "execute_result"
    }
   ],
   "source": [
    "# show current format\n",
    "\n",
    "format_df_aircraft = headers_and_first_row(df_acft_typ)\n",
    "\n",
    "format_df_aircraft\n",
    "\n",
    "# pre-processing code\n",
    "\n",
    "df_acft_type = dataframe_str_formatter(df_acft_typ)\n",
    "\n",
    "format_df_aircraft = headers_and_first_row(df_acft_typ)\n",
    "\n",
    "format_df_aircraft"
   ]
  },
  {
   "cell_type": "code",
   "execution_count": 13,
   "metadata": {},
   "outputs": [
    {
     "name": "stdout",
     "output_type": "stream",
     "text": [
      "Old Shape: (973878, 11)\n",
      "New Shape: (973878, 27)\n"
     ]
    }
   ],
   "source": [
    "# Example\n",
    "\n",
    "# joining df_lounge_eligibility and df_flight_info\n",
    "\n",
    "df_lounge_elig_flight_info = pd.merge(df_lounge_eligibility,# left table\n",
    "                                     df_flight_info, # right table\n",
    "                                     left_on = ['GMT_UPLIFT_DT','OPERATING_FLT_NO','UPLIFT_STN_CD','DISCHARGE_STN_CD'], # left on? e.g. which columns from the left table are you joining on to?\n",
    "                                     right_on = ['GMT_PLND_DEP','OPG_FLT_NO','ACT_DEP_STN_CD','ACT_ARR_STN_CD'], # right on? # left on? e.g. which columns from the right table are you joining on to?\n",
    "                                     how = \"left\" # how? e.g. left, right, inner,etc\n",
    "                                     )\n",
    "\n",
    "print('Old Shape: {}'.format(df_lounge_eligibility.shape))\n",
    "print('New Shape: {}'.format(df_lounge_elig_flight_info.shape))"
   ]
  },
  {
   "cell_type": "markdown",
   "metadata": {},
   "source": [
    "### Check Join has worked correctly by looking at some rows and countings null where join may not have worked"
   ]
  },
  {
   "cell_type": "code",
   "execution_count": 14,
   "metadata": {},
   "outputs": [
    {
     "name": "stdout",
     "output_type": "stream",
     "text": [
      "Old Shape: (973878, 27)\n",
      "New Shape: (973878, 31)\n"
     ]
    }
   ],
   "source": [
    "# your code here!\n",
    "\n",
    "df_lounge_country_flight = pd.merge(df_lounge_elig_flight_info,\n",
    "                                   df_country,\n",
    "                                   on = 'ROUTE',\n",
    "                                   how = 'left'\n",
    "                                   )\n",
    "\n",
    "print('Old Shape: {}'.format(df_lounge_elig_flight_info.shape))\n",
    "print('New Shape: {}'.format(df_lounge_country_flight.shape))"
   ]
  },
  {
   "cell_type": "code",
   "execution_count": 15,
   "metadata": {},
   "outputs": [
    {
     "name": "stdout",
     "output_type": "stream",
     "text": [
      "Old Shape: (973878, 31)\n",
      "New Shape: (973878, 36)\n"
     ]
    }
   ],
   "source": [
    "df_final = pd.merge(df_lounge_country_flight,\n",
    "                   df_acft_typ,\n",
    "                   on = ['IATA_AC_TYP_CD','ACT_AC_TYP_CD'],\n",
    "                   how = 'left'\n",
    "\n",
    "                   )\n",
    "\n",
    "print('Old Shape: {}'.format(df_lounge_country_flight.shape))\n",
    "print('New Shape: {}'.format(df_final.shape))"
   ]
  },
  {
   "cell_type": "markdown",
   "metadata": {},
   "source": [
    "<br><br><br>"
   ]
  },
  {
   "cell_type": "code",
   "execution_count": 16,
   "metadata": {},
   "outputs": [],
   "source": [
    "#--------------------------------\n",
    "#\n",
    "# Your turn!!!\n",
    "#\n",
    "#--------------------------------"
   ]
  },
  {
   "cell_type": "markdown",
   "metadata": {},
   "source": [
    "<u>What level of granularity do you use?</u>\n",
    "\n",
    "This project wants to understand what characteristics of a flight help us get a better picture of the lounge eligibility profiles.\n",
    "Things I want to consider:\n",
    "- Time of flight (Morning, Afternoon, Evening) or maybe even by hour\n",
    "- Destination as this determines the passenger profile, different countries/regions have more premium passengers potentially\n",
    "- Short Haul/Medium Haul/Long Haul \n",
    "- Month of Flight\n",
    "- City Route Flag\n",
    "- Weekday/Weekend \n",
    "- Business Route indicator?\n",
    "\n",
    "\n",
    "<u>General Thoughts:</u>\n",
    "\n",
    "Destination:\n",
    "- Routes are too granular as if we have new routes in the future we wouldn't be able to estimate\n",
    "- Countries could also be granular if we develop new routes to countries\n",
    "- Region may be suited as we currently fly to all regions\n",
    "- We need to think how to consider how certain countries within a region may have higher premium loads vs others\n",
    "\n",
    "<u>What metric do you use to come up with Lounge eligibility profiles?</u>\n",
    "- ... (your answer here)"
   ]
  },
  {
   "cell_type": "markdown",
   "metadata": {},
   "source": [
    "## Key Functions"
   ]
  },
  {
   "cell_type": "markdown",
   "metadata": {},
   "source": [
    "#### Proportion Table Function"
   ]
  },
  {
   "cell_type": "code",
   "execution_count": 17,
   "metadata": {},
   "outputs": [],
   "source": [
    "def tier_proportions(features, df_fin):\n",
    "    \n",
    "    '''A function to build our the proportion of customers eligible for lounge based on features inputted'''\n",
    "\n",
    "    tier_col = 'Lounge_eligibility_tier'\n",
    "    \n",
    "    # Create group by parameters\n",
    "    groupby_list = features[:]\n",
    "    groupby_list.append(tier_col)\n",
    "\n",
    "    # Get total eligible by features and tier\n",
    "    df_grouped = df_fin.groupby(groupby_list).agg({'pax':'sum'})\n",
    "\n",
    "    # Add total amount for features excluding tier to get breakdown\n",
    "    df_grouped['total_pax_features'] = df_grouped.groupby(features)['pax'].transform('sum')\n",
    "\n",
    "    # proportion elgible \n",
    "    df_grouped['proportion'] = (df_grouped['pax'] / df_grouped['total_pax_features']) * 100\n",
    "    df_grouped['proportion'] = df_grouped['proportion'].map('{:,.1f}%'.format)\n",
    "\n",
    "    # reset index\n",
    "    df_grouped.reset_index(inplace = True)\n",
    "\n",
    "    # remove not eligible passengers\n",
    "    df_grouped = df_grouped[df_grouped[tier_col] != 'Not eligible']\n",
    "\n",
    "    # reshape data required for Ops Team\n",
    "    df = df_grouped.pivot(index = features, columns = tier_col, values = 'proportion')\n",
    "    \n",
    "    return df\n"
   ]
  },
  {
   "cell_type": "markdown",
   "metadata": {},
   "source": [
    "<br>\n",
    "\n",
    "Please save your final lookup table below in the form of a pandas dataframe. It must contain the categories you have come up with as rows, and the Tier 1, Tier 2, and Tier 3 percentage of costumers as columns."
   ]
  },
  {
   "cell_type": "markdown",
   "metadata": {},
   "source": [
    "#### Evaluation Function"
   ]
  },
  {
   "cell_type": "code",
   "execution_count": 18,
   "metadata": {},
   "outputs": [],
   "source": [
    "# Build out the daily passengers for each flight\n",
    "\n",
    "def feature_pax_2019(features, df):\n",
    "    \n",
    "    '''Computes the passengers who travelled by features and flight number and day'''\n",
    "    \n",
    "    eval_list = features[:]\n",
    "    group_features = ['GMT_UPLIFT_DT','OPERATING_FLT_NO']\n",
    "    prop_features = group_features[:]\n",
    "    prop_features.extend(eval_list)\n",
    "    df_flight_sum = df_final.groupby(prop_features)['pax'].sum().reset_index()\n",
    "    return df_flight_sum, group_features\n",
    "    \n",
    "def proportion_formatter(df):\n",
    "    \n",
    "    '''Simple function to reformat the tier eligibility table for evaluation joins'''\n",
    "    \n",
    "    # format the proportions for the join\n",
    "    df_proportions = df.stack().reset_index()\n",
    "\n",
    "    # rename proportion column\n",
    "    df_proportions = df_proportions.rename({0:'Proportions'}, axis = 1)\n",
    "    \n",
    "    return df_proportions\n",
    "\n",
    "def flight_tier_forecast(df_prop, df_feat, feat_list):\n",
    "    \n",
    "    '''Forecasts the number of passengers in each tier for each flight'''\n",
    "    \n",
    "    # join the two\n",
    "\n",
    "    df_total = pd.merge(df_feat, df_prop, how = 'inner', on = feat_list)\n",
    "\n",
    "    # calculate proportion of each tier in each flight\n",
    "    df_total['Proportion Numeric'] = df_total['Proportions'].str.replace('%','').astype(float) / 100\n",
    "    df_total['tier_pax'] = df_total['pax'] * df_total['Proportion Numeric']\n",
    "    df_total['tier_pax'] = df_total['tier_pax'].values.round()\n",
    "\n",
    "    return df_total\n",
    "\n",
    "def eval_table(df_final, df_tot, group_features):\n",
    "\n",
    "    '''Function to create the evaluation table which compares forecast vs actual'''\n",
    "    \n",
    "    tier = 'Lounge_eligibility_tier'\n",
    "\n",
    "    tier_features = group_features[:]\n",
    "    tier_features.append(tier)\n",
    "\n",
    "    df_tier = df_final.groupby(by = tier_features)['pax'].sum().reset_index()\n",
    "    df_eval = pd.merge(df_tier, df_tot, how = 'inner', on = tier_features)\n",
    "    \n",
    "    return  df_eval\n",
    "\n",
    "def rmse(df_eval):\n",
    "    \n",
    "    '''Returns the Root Mean Squared Error of our prediction'''\n",
    "    \n",
    "    df_eval['sqrd_resid'] = (df_eval['pax_x'] - df_eval['tier_pax']) ** 2\n",
    "    std = np.sqrt(df_eval['sqrd_resid'].sum() / df_eval.shape[0])\n",
    "    \n",
    "    return std\n",
    "\n",
    "def evaluation(feat, df_fin, df_test):\n",
    "    \n",
    "    '''Function which returns the RMSE of the forecast'''\n",
    "    \n",
    "    df_feat, grp_feat = feature_pax_2019(feat, df_fin)\n",
    "    df_prop_feat = proportion_formatter(df_test)\n",
    "    df_total = flight_tier_forecast(df_prop_feat, df_feat, feat)\n",
    "    df_eval = eval_table(df_fin, df_total, grp_feat)\n",
    "    std = rmse(df_eval)\n",
    "    return std\n",
    "    \n",
    "    "
   ]
  },
  {
   "cell_type": "markdown",
   "metadata": {},
   "source": [
    "#### Combination Function"
   ]
  },
  {
   "cell_type": "code",
   "execution_count": 19,
   "metadata": {},
   "outputs": [],
   "source": [
    "def feature_evaluation(feat, df):\n",
    "    \n",
    "    df_test = tier_proportions(feat, df)\n",
    "    result = evaluation(feat, df, df_test)\n",
    "    return result\n",
    "    \n",
    "def feature_combination(features):\n",
    "    \n",
    "    '''Simple function which returns every possible combination of features'''\n",
    "    \n",
    "    nbr_features = len(features)\n",
    "    feature_comb_list = []\n",
    "    for nbr in range(1,nbr_features + 1):\n",
    "        stage_comb = [list(comb) for comb in combinations(features, nbr)]\n",
    "        feature_comb_list.extend(stage_comb)\n",
    "        \n",
    "    return feature_comb_list\n",
    "    \n",
    "def combination_evaluation(features, df):\n",
    "    \n",
    "    '''A function to test every combination and evaluate its performance'''\n",
    "    \n",
    "    results = []\n",
    "    test_features = feature_combination(features)\n",
    "    \n",
    "    # loop through every combination of features and test result\n",
    "    for feat_comb in test_features:\n",
    "        rmse = feature_evaluation(feat_comb, df)\n",
    "        results.append([feat_comb,rmse])\n",
    "        \n",
    "    # create dataframe of results\n",
    "    df_result = pd.DataFrame(results, columns = ['feature_combination','RMSE'])\n",
    "    df_result = df_result.sort_values('RMSE', ascending = True)\n",
    "    \n",
    "    return df_result"
   ]
  },
  {
   "cell_type": "markdown",
   "metadata": {},
   "source": [
    "## Data exploration"
   ]
  },
  {
   "cell_type": "code",
   "execution_count": 20,
   "metadata": {},
   "outputs": [
    {
     "data": {
      "text/html": [
       "<div>\n",
       "<style scoped>\n",
       "    .dataframe tbody tr th:only-of-type {\n",
       "        vertical-align: middle;\n",
       "    }\n",
       "\n",
       "    .dataframe tbody tr th {\n",
       "        vertical-align: top;\n",
       "    }\n",
       "\n",
       "    .dataframe thead th {\n",
       "        text-align: right;\n",
       "    }\n",
       "</style>\n",
       "<table border=\"1\" class=\"dataframe\">\n",
       "  <thead>\n",
       "    <tr style=\"text-align: right;\">\n",
       "      <th></th>\n",
       "      <th>OPERATING_AIRLINE_CD</th>\n",
       "      <th>OPERATING_FLT_NO</th>\n",
       "      <th>GMT_UPLIFT_DT</th>\n",
       "      <th>UPLIFT_STN_CD</th>\n",
       "      <th>DISCHARGE_STN_CD</th>\n",
       "      <th>BOOKED_CABIN_CD</th>\n",
       "      <th>TRAVEL_CABIN_CD</th>\n",
       "      <th>BA_PAX_TIER</th>\n",
       "      <th>ONEWORLD_TIER</th>\n",
       "      <th>Lounge_eligibility_tier</th>\n",
       "      <th>pax</th>\n",
       "      <th>OPG_ALN_CD</th>\n",
       "      <th>OPG_FLT_NO</th>\n",
       "      <th>GMT_PLND_DEP_TS</th>\n",
       "      <th>GMT_ACT_DEP_TS</th>\n",
       "      <th>ACT_DEP_STN_CD</th>\n",
       "      <th>ACT_DEP_TML_CD</th>\n",
       "      <th>PLND_ARR_STN_CD</th>\n",
       "      <th>ACT_ARR_STN_CD</th>\n",
       "      <th>IATA_AC_TYP_CD</th>\n",
       "      <th>ACT_AC_TYP_CD</th>\n",
       "      <th>ROUTE</th>\n",
       "      <th>COUNTRY_CD_x</th>\n",
       "      <th>COUNTRY_NM_x</th>\n",
       "      <th>CORP_GEOG_CTRY_GRP_NM_x</th>\n",
       "      <th>CORP_GEOG_CONTINENT_NM_x</th>\n",
       "      <th>GMT_PLND_DEP</th>\n",
       "      <th>COUNTRY_CD_y</th>\n",
       "      <th>COUNTRY_NM_y</th>\n",
       "      <th>CORP_GEOG_CTRY_GRP_NM_y</th>\n",
       "      <th>CORP_GEOG_CONTINENT_NM_y</th>\n",
       "      <th>WB_NB_CAT</th>\n",
       "      <th>FIRST_SEATS_QTY</th>\n",
       "      <th>CLUB_SEATS_QTY</th>\n",
       "      <th>PREM_ECONOMY_SEATS_QTY</th>\n",
       "      <th>ECONOMY_SEATS_QTY</th>\n",
       "    </tr>\n",
       "  </thead>\n",
       "  <tbody>\n",
       "    <tr>\n",
       "      <th>0</th>\n",
       "      <td>BA</td>\n",
       "      <td>57</td>\n",
       "      <td>2019-06-18</td>\n",
       "      <td>LHR</td>\n",
       "      <td>JNB</td>\n",
       "      <td>J</td>\n",
       "      <td>J</td>\n",
       "      <td></td>\n",
       "      <td>EMER</td>\n",
       "      <td>Tier 2</td>\n",
       "      <td>1</td>\n",
       "      <td>BA</td>\n",
       "      <td>57.0</td>\n",
       "      <td>2019-06-18 20:25:00</td>\n",
       "      <td>2019-06-18 20:22:00</td>\n",
       "      <td>LHR</td>\n",
       "      <td>5</td>\n",
       "      <td>JNB</td>\n",
       "      <td>JNB</td>\n",
       "      <td>744</td>\n",
       "      <td>S4</td>\n",
       "      <td>LHRJNB</td>\n",
       "      <td>ZA</td>\n",
       "      <td>South Africa</td>\n",
       "      <td>SOUTHERN AFRICA</td>\n",
       "      <td>AFRICA</td>\n",
       "      <td>2019-06-18</td>\n",
       "      <td>ZA</td>\n",
       "      <td>South Africa</td>\n",
       "      <td>SOUTHERN AFRICA</td>\n",
       "      <td>AFRICA</td>\n",
       "      <td>WB</td>\n",
       "      <td>14.0</td>\n",
       "      <td>86.0</td>\n",
       "      <td>30.0</td>\n",
       "      <td>145.0</td>\n",
       "    </tr>\n",
       "    <tr>\n",
       "      <th>1</th>\n",
       "      <td>BA</td>\n",
       "      <td>247</td>\n",
       "      <td>2019-06-29</td>\n",
       "      <td>LHR</td>\n",
       "      <td>GRU</td>\n",
       "      <td>J</td>\n",
       "      <td>J</td>\n",
       "      <td>Gold</td>\n",
       "      <td>EMER</td>\n",
       "      <td>Tier 2</td>\n",
       "      <td>1</td>\n",
       "      <td>BA</td>\n",
       "      <td>247.0</td>\n",
       "      <td>2019-06-29 21:25:00</td>\n",
       "      <td>2019-06-29 21:39:00</td>\n",
       "      <td>LHR</td>\n",
       "      <td>5</td>\n",
       "      <td>GRU</td>\n",
       "      <td>GRU</td>\n",
       "      <td>77W</td>\n",
       "      <td>G7</td>\n",
       "      <td>LHRGRU</td>\n",
       "      <td>BR</td>\n",
       "      <td>Brazil</td>\n",
       "      <td>SOUTH AMERICA</td>\n",
       "      <td>SOUTH AMERICA INC CARIBBEAN</td>\n",
       "      <td>2019-06-29</td>\n",
       "      <td>BR</td>\n",
       "      <td>Brazil</td>\n",
       "      <td>SOUTH AMERICA</td>\n",
       "      <td>SOUTH AMERICA INC CARIBBEAN</td>\n",
       "      <td>WB</td>\n",
       "      <td>14.0</td>\n",
       "      <td>56.0</td>\n",
       "      <td>44.0</td>\n",
       "      <td>183.0</td>\n",
       "    </tr>\n",
       "    <tr>\n",
       "      <th>2</th>\n",
       "      <td>BA</td>\n",
       "      <td>766</td>\n",
       "      <td>2019-06-13</td>\n",
       "      <td>LHR</td>\n",
       "      <td>OSL</td>\n",
       "      <td>C</td>\n",
       "      <td>C</td>\n",
       "      <td>Silver</td>\n",
       "      <td>SAPP</td>\n",
       "      <td>Tier 3</td>\n",
       "      <td>7</td>\n",
       "      <td>BA</td>\n",
       "      <td>766.0</td>\n",
       "      <td>2019-06-13 11:55:00</td>\n",
       "      <td>2019-06-13 12:23:00</td>\n",
       "      <td>LHR</td>\n",
       "      <td>5</td>\n",
       "      <td>OSL</td>\n",
       "      <td>OSL</td>\n",
       "      <td>321</td>\n",
       "      <td>V6</td>\n",
       "      <td>LHROSL</td>\n",
       "      <td>NO</td>\n",
       "      <td>Norway</td>\n",
       "      <td>SCANDINAVIA</td>\n",
       "      <td>EUROPE EXC UK</td>\n",
       "      <td>2019-06-13</td>\n",
       "      <td>NO</td>\n",
       "      <td>Norway</td>\n",
       "      <td>SCANDINAVIA</td>\n",
       "      <td>EUROPE EXC UK</td>\n",
       "      <td>NB</td>\n",
       "      <td>0.0</td>\n",
       "      <td>38.0</td>\n",
       "      <td>0.0</td>\n",
       "      <td>160.0</td>\n",
       "    </tr>\n",
       "    <tr>\n",
       "      <th>3</th>\n",
       "      <td>BA</td>\n",
       "      <td>556</td>\n",
       "      <td>2019-05-21</td>\n",
       "      <td>LHR</td>\n",
       "      <td>FCO</td>\n",
       "      <td>M</td>\n",
       "      <td>M</td>\n",
       "      <td></td>\n",
       "      <td>SAPP</td>\n",
       "      <td>Tier 3</td>\n",
       "      <td>1</td>\n",
       "      <td>BA</td>\n",
       "      <td>556.0</td>\n",
       "      <td>2019-05-21 14:45:00</td>\n",
       "      <td>2019-05-21 14:55:00</td>\n",
       "      <td>LHR</td>\n",
       "      <td>5</td>\n",
       "      <td>FCO</td>\n",
       "      <td>FCO</td>\n",
       "      <td>321</td>\n",
       "      <td>V6</td>\n",
       "      <td>LHRFCO</td>\n",
       "      <td>IT</td>\n",
       "      <td>Italy</td>\n",
       "      <td>MEDITERRANEAN</td>\n",
       "      <td>EUROPE EXC UK</td>\n",
       "      <td>2019-05-21</td>\n",
       "      <td>IT</td>\n",
       "      <td>Italy</td>\n",
       "      <td>MEDITERRANEAN</td>\n",
       "      <td>EUROPE EXC UK</td>\n",
       "      <td>NB</td>\n",
       "      <td>0.0</td>\n",
       "      <td>38.0</td>\n",
       "      <td>0.0</td>\n",
       "      <td>160.0</td>\n",
       "    </tr>\n",
       "    <tr>\n",
       "      <th>4</th>\n",
       "      <td>BA</td>\n",
       "      <td>27</td>\n",
       "      <td>2019-09-19</td>\n",
       "      <td>LHR</td>\n",
       "      <td>HKG</td>\n",
       "      <td>F</td>\n",
       "      <td>F</td>\n",
       "      <td>Premier</td>\n",
       "      <td>EMER</td>\n",
       "      <td>Tier 1</td>\n",
       "      <td>2</td>\n",
       "      <td>BA</td>\n",
       "      <td>27.0</td>\n",
       "      <td>2019-09-19 20:45:00</td>\n",
       "      <td>2019-09-19 20:50:00</td>\n",
       "      <td>LHR</td>\n",
       "      <td>5</td>\n",
       "      <td>HKG</td>\n",
       "      <td>HKG</td>\n",
       "      <td>77W</td>\n",
       "      <td>G7</td>\n",
       "      <td>LHRHKG</td>\n",
       "      <td>HK</td>\n",
       "      <td>Hong Kong - SAR of China</td>\n",
       "      <td>FAR EAST HUBS</td>\n",
       "      <td>ASIA FAR EAST</td>\n",
       "      <td>2019-09-19</td>\n",
       "      <td>HK</td>\n",
       "      <td>Hong Kong - SAR of China</td>\n",
       "      <td>FAR EAST HUBS</td>\n",
       "      <td>ASIA FAR EAST</td>\n",
       "      <td>WB</td>\n",
       "      <td>14.0</td>\n",
       "      <td>56.0</td>\n",
       "      <td>44.0</td>\n",
       "      <td>183.0</td>\n",
       "    </tr>\n",
       "  </tbody>\n",
       "</table>\n",
       "</div>"
      ],
      "text/plain": [
       "  OPERATING_AIRLINE_CD  OPERATING_FLT_NO GMT_UPLIFT_DT UPLIFT_STN_CD  \\\n",
       "0                   BA                57    2019-06-18           LHR   \n",
       "1                   BA               247    2019-06-29           LHR   \n",
       "2                   BA               766    2019-06-13           LHR   \n",
       "3                   BA               556    2019-05-21           LHR   \n",
       "4                   BA                27    2019-09-19           LHR   \n",
       "\n",
       "  DISCHARGE_STN_CD BOOKED_CABIN_CD TRAVEL_CABIN_CD BA_PAX_TIER ONEWORLD_TIER  \\\n",
       "0              JNB               J               J                      EMER   \n",
       "1              GRU               J               J        Gold          EMER   \n",
       "2              OSL               C               C      Silver          SAPP   \n",
       "3              FCO               M               M                      SAPP   \n",
       "4              HKG               F               F     Premier          EMER   \n",
       "\n",
       "  Lounge_eligibility_tier  pax OPG_ALN_CD  OPG_FLT_NO     GMT_PLND_DEP_TS  \\\n",
       "0                  Tier 2    1         BA        57.0 2019-06-18 20:25:00   \n",
       "1                  Tier 2    1         BA       247.0 2019-06-29 21:25:00   \n",
       "2                  Tier 3    7         BA       766.0 2019-06-13 11:55:00   \n",
       "3                  Tier 3    1         BA       556.0 2019-05-21 14:45:00   \n",
       "4                  Tier 1    2         BA        27.0 2019-09-19 20:45:00   \n",
       "\n",
       "       GMT_ACT_DEP_TS ACT_DEP_STN_CD ACT_DEP_TML_CD PLND_ARR_STN_CD  \\\n",
       "0 2019-06-18 20:22:00            LHR              5             JNB   \n",
       "1 2019-06-29 21:39:00            LHR              5             GRU   \n",
       "2 2019-06-13 12:23:00            LHR              5             OSL   \n",
       "3 2019-05-21 14:55:00            LHR              5             FCO   \n",
       "4 2019-09-19 20:50:00            LHR              5             HKG   \n",
       "\n",
       "  ACT_ARR_STN_CD IATA_AC_TYP_CD ACT_AC_TYP_CD   ROUTE COUNTRY_CD_x  \\\n",
       "0            JNB            744            S4  LHRJNB           ZA   \n",
       "1            GRU            77W            G7  LHRGRU           BR   \n",
       "2            OSL            321            V6  LHROSL           NO   \n",
       "3            FCO            321            V6  LHRFCO           IT   \n",
       "4            HKG            77W            G7  LHRHKG           HK   \n",
       "\n",
       "               COUNTRY_NM_x CORP_GEOG_CTRY_GRP_NM_x  \\\n",
       "0              South Africa         SOUTHERN AFRICA   \n",
       "1                    Brazil           SOUTH AMERICA   \n",
       "2                    Norway             SCANDINAVIA   \n",
       "3                     Italy           MEDITERRANEAN   \n",
       "4  Hong Kong - SAR of China           FAR EAST HUBS   \n",
       "\n",
       "      CORP_GEOG_CONTINENT_NM_x GMT_PLND_DEP COUNTRY_CD_y  \\\n",
       "0                       AFRICA   2019-06-18           ZA   \n",
       "1  SOUTH AMERICA INC CARIBBEAN   2019-06-29           BR   \n",
       "2                EUROPE EXC UK   2019-06-13           NO   \n",
       "3                EUROPE EXC UK   2019-05-21           IT   \n",
       "4                ASIA FAR EAST   2019-09-19           HK   \n",
       "\n",
       "               COUNTRY_NM_y CORP_GEOG_CTRY_GRP_NM_y  \\\n",
       "0              South Africa         SOUTHERN AFRICA   \n",
       "1                    Brazil           SOUTH AMERICA   \n",
       "2                    Norway             SCANDINAVIA   \n",
       "3                     Italy           MEDITERRANEAN   \n",
       "4  Hong Kong - SAR of China           FAR EAST HUBS   \n",
       "\n",
       "      CORP_GEOG_CONTINENT_NM_y WB_NB_CAT  FIRST_SEATS_QTY  CLUB_SEATS_QTY  \\\n",
       "0                       AFRICA        WB             14.0            86.0   \n",
       "1  SOUTH AMERICA INC CARIBBEAN        WB             14.0            56.0   \n",
       "2                EUROPE EXC UK        NB              0.0            38.0   \n",
       "3                EUROPE EXC UK        NB              0.0            38.0   \n",
       "4                ASIA FAR EAST        WB             14.0            56.0   \n",
       "\n",
       "   PREM_ECONOMY_SEATS_QTY  ECONOMY_SEATS_QTY  \n",
       "0                    30.0              145.0  \n",
       "1                    44.0              183.0  \n",
       "2                     0.0              160.0  \n",
       "3                     0.0              160.0  \n",
       "4                    44.0              183.0  "
      ]
     },
     "execution_count": 20,
     "metadata": {},
     "output_type": "execute_result"
    }
   ],
   "source": [
    "df_final.head()"
   ]
  },
  {
   "cell_type": "markdown",
   "metadata": {},
   "source": [
    "Things to explore:\n",
    "- How does true proportions change by region\n",
    "- Where the errors lie, specific regions or any other valuable features we can build\n",
    "\n",
    "Features to build:\n",
    "\n",
    "- Weekday/Weekend\n",
    "- City Flag\n",
    "- Time of day\n",
    "- Month"
   ]
  },
  {
   "cell_type": "code",
   "execution_count": 21,
   "metadata": {},
   "outputs": [],
   "source": [
    "# Feature Creation\n",
    "\n",
    "df_final['time_cat'] = pd.cut(df_final['GMT_PLND_DEP_TS'].dt.hour, bins = [0,5,12,17,21,24], labels = ['Night','Morning','Afternoon','Evening','Night'], include_lowest = True, ordered = False)"
   ]
  },
  {
   "cell_type": "code",
   "execution_count": null,
   "metadata": {},
   "outputs": [],
   "source": [
    "features = ['CORP_GEOG_CTRY_GRP_NM_x','time_cat']\n",
    "#final_table = combination_evaluation(features, df_final)\n"
   ]
  },
  {
   "cell_type": "code",
   "execution_count": null,
   "metadata": {},
   "outputs": [],
   "source": [
    "final_table.head()"
   ]
  },
  {
   "cell_type": "code",
   "execution_count": null,
   "metadata": {},
   "outputs": [],
   "source": []
  }
 ],
 "metadata": {
  "instance_type": "ml.r5.24xlarge",
  "kernelspec": {
   "display_name": "Python 3 (Data Science)",
   "language": "python",
   "name": "python3__SAGEMAKER_INTERNAL__arn:aws:sagemaker:eu-west-1:470317259841:image/datascience-1.0"
  },
  "language_info": {
   "codemirror_mode": {
    "name": "ipython",
    "version": 3
   },
   "file_extension": ".py",
   "mimetype": "text/x-python",
   "name": "python",
   "nbconvert_exporter": "python",
   "pygments_lexer": "ipython3",
   "version": "3.7.10"
  },
  "lcc_arn": "arn:aws:sagemaker:eu-west-1:954353547965:studio-lifecycle-config/install-cadspy-v1-8-1r2"
 },
 "nbformat": 4,
 "nbformat_minor": 4
}
